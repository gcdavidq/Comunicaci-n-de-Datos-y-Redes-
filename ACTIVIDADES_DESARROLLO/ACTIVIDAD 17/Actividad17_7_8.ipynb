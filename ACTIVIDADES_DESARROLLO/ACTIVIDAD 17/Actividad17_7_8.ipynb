{
  "nbformat": 4,
  "nbformat_minor": 0,
  "metadata": {
    "colab": {
      "provenance": []
    },
    "kernelspec": {
      "name": "python3",
      "display_name": "Python 3"
    },
    "language_info": {
      "name": "python"
    }
  },
  "cells": [
    {
      "cell_type": "markdown",
      "source": [
        "# Problema 7: Cache de Red\n",
        "Conceptos: Cache de red, Protocolo de cache, Eficiencia de red\n",
        "\n",
        "Crea una función que simule un cache de red simple. Esta función deberá almacenar resultados de operaciones o datos frecuentemente accesados y servirlos rápidamente sin necesidad de una nueva operación de red.\n",
        "\n",
        "- Implementa un mecanismo de cache utilizando diccionarios.\n",
        "- Demostrar la mejora en eficiencia al evitar operaciones repetidas."
      ],
      "metadata": {
        "id": "nH7CZ0rpT0sK"
      }
    },
    {
      "cell_type": "markdown",
      "source": [
        "Política de expiración: Implementa una política de expiración para los datos en el caché, donde los datos se eliminan después de un cierto tiempo."
      ],
      "metadata": {
        "id": "tQ9kngZceJ73"
      }
    },
    {
      "cell_type": "markdown",
      "source": [
        "Paso 1: Crear la estructura del caché\n",
        "\n",
        "Usaremos un diccionario para simular el caché. Las claves del diccionario serán las solicitudes o identificadores únicos de los datos, y los valores serán los datos almacenados."
      ],
      "metadata": {
        "id": "KohoD0S7dK1B"
      }
    },
    {
      "cell_type": "code",
      "execution_count": 7,
      "metadata": {
        "id": "3tHQ1NNYTmNN"
      },
      "outputs": [],
      "source": [
        "\n",
        "from time import time\n",
        "#Crear la estructura del cache\n",
        "cache_de_red = {}\n",
        "tiempo_de_expiración=60\n",
        "\n",
        "def obtener_datos_desde_cache(identificador):\n",
        "  \"\"\"Obtiene datos del caché si están disponibles y no han expirado\"\"\"\n",
        "  if identificador in cache_de_red:\n",
        "    dato, tiempo_de_creacion=cache_de_red[identificador]\n",
        "    if time()-tiempo_de_creacion< tiempo_de_expiración:\n",
        "      print(f\"Datos obtenidos desde el caché para : {identificador}\")\n",
        "      return dato\n",
        "    else:\n",
        "      print(f\"Los datos en el caché para {identificador} han experiado.\")\n",
        "  print(f\"No se ecnontraron datos en el caché para {identificador}\")\n",
        "\n"
      ]
    },
    {
      "cell_type": "markdown",
      "source": [
        "\n",
        "Paso 2: Simular la obtención de datos y almacenarlos en el caché\n",
        "\n",
        "Para simular la obtención de datos y su almacenamiento en el caché, crearemos una función que simule una operación de red (como una solicitud a una base de datos o a una API) y almacene el resultado en el caché para usos futuros."
      ],
      "metadata": {
        "id": "qxVRZB5ndMq3"
      }
    },
    {
      "cell_type": "code",
      "source": [
        "def obtener_datos_desde_servidor(identificador):\n",
        "  \"\"\"Simula una operacion de red para obtener datos\"\"\"\n",
        "  print(f\"Obteniendo datos desde el servidor para:{identificador}\")\n",
        "  #Simulamos una operacion de red que obtiene datos\n",
        "  datos= f\"datos para {identificador}\"\n",
        "  cache_de_red[identificador]=(datos,time()) #Almacenar datos con marca de tiempo\n",
        "  return datos"
      ],
      "metadata": {
        "id": "A1sPcRczapjY"
      },
      "execution_count": 8,
      "outputs": []
    },
    {
      "cell_type": "code",
      "source": [
        "def obtener_datos(identificador):\n",
        "    \"\"\"Intenta obtener datos desde el caché, y si no están disponibles o han expirado, los obtiene desde el servidor.\"\"\"\n",
        "    datos = obtener_datos_desde_cache(identificador)\n",
        "    if datos is None:\n",
        "        datos = obtener_datos_desde_servidor(identificador)\n",
        "    return datos\n"
      ],
      "metadata": {
        "id": "OTvoqtRDbQER"
      },
      "execution_count": 9,
      "outputs": []
    },
    {
      "cell_type": "markdown",
      "source": [
        "Paso 3: Demostrar la mejora en eficiencia\n",
        "\n",
        "Para demostrar cómo el caché puede mejorar la eficiencia, realizaremos múltiples solicitudes al mismo identificador y observaremos cómo las solicitudes repetidas evitan operaciones de red adicionales."
      ],
      "metadata": {
        "id": "7FkzX8wrdSgA"
      }
    },
    {
      "cell_type": "code",
      "source": [
        "def demostrar_eficiencia():\n",
        "    # Primera solicitud: los datos se obtendrán desde el servidor\n",
        "    print(obtener_datos(\"12345\"))\n",
        "\n",
        "    # Segunda solicitud: los datos se obtendrán desde el caché\n",
        "    print(obtener_datos(\"12345\"))\n",
        "\n",
        "    # Tercera solicitud: los datos se obtendrán desde el caché\n",
        "    print(obtener_datos(\"12345\"))\n",
        "\n",
        "if __name__ == \"__main__\":\n",
        "    demostrar_eficiencia()"
      ],
      "metadata": {
        "colab": {
          "base_uri": "https://localhost:8080/"
        },
        "id": "PMrDJ3UlbcGI",
        "outputId": "b47a6b36-8ead-43d7-f440-be404f6f30d1"
      },
      "execution_count": 10,
      "outputs": [
        {
          "output_type": "stream",
          "name": "stdout",
          "text": [
            "No se ecnontraron datos en el caché para 12345\n",
            "Obteniendo datos desde el servidor para:12345\n",
            "datos para 12345\n",
            "Datos obtenidos desde el caché para : 12345\n",
            "datos para 12345\n",
            "Datos obtenidos desde el caché para : 12345\n",
            "datos para 12345\n"
          ]
        }
      ]
    },
    {
      "cell_type": "markdown",
      "source": [
        "Ejercicios Adicionales"
      ],
      "metadata": {
        "id": "1PiSTibhWRcI"
      }
    }
  ]
}